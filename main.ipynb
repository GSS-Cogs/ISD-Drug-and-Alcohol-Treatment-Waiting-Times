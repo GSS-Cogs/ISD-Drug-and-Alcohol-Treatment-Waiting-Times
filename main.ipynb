{
 "cells": [
  {
   "cell_type": "markdown",
   "metadata": {},
   "source": [
    "April 2014 - March 2018 Demographic Tables"
   ]
  },
  {
   "cell_type": "markdown",
   "metadata": {},
   "source": [
    "https://www.isdscotland.org/Health-Topics/Drugs-and-Alcohol-Misuse/Publications/2018-09-25/April-2014-March-2018-DATWT-Demographic-Tables.xlsx"
   ]
  },
  {
   "cell_type": "code",
   "execution_count": 1,
   "metadata": {
    "scrolled": true
   },
   "outputs": [
    {
     "name": "stderr",
     "output_type": "stream",
     "text": [
      "WARNING:Broken link to dataset data-tables2017.asp?id=1894#1894\n",
      "WARNING:Broken link to dataset data-tables2017.asp?id=1887#1887\n",
      "WARNING:Broken link to dataset data-tables.asp?id=1508#1508\n",
      "WARNING:Broken link to dataset data-tables.asp?id=1386#1386\n",
      "WARNING:Broken link to dataset data-tables.asp?id=1318#1318\n",
      "WARNING:Broken link to dataset data-tables.asp?id=1318#1318\n",
      "WARNING:Broken link to dataset data-tables.asp?id=1238#1238\n",
      "WARNING:Broken link to dataset data-tables.asp?id=735#735\n",
      "WARNING:Broken link to dataset data-tables.asp?id=735#735\n",
      "WARNING:Broken link to dataset data-tables.asp?id=735#735\n",
      "WARNING:Broken link to dataset data-tables.asp?id=735#735\n",
      "WARNING:Broken link to dataset data-tables.asp?id=735#735\n",
      "WARNING:Broken link to dataset data-tables.asp?id=735#735\n"
     ]
    },
    {
     "data": {
      "text/markdown": [
       "## Drugs and Alcohol Misuse\n",
       "\n",
       "This is a catalog of datasets; choose one from the following:\n",
       "\n",
       "* National Naloxone Programme Scotland Monitoring Report\n",
       "* Alcohol Related Hospital Statistics\n",
       "* National Drug and Alcohol Treatment Waiting Times\n",
       "* Provision of Injecting Equipment in Scotland, 2016/17 Report\n",
       "* Scottish Drug Misuse Database Annual Report\n",
       "* Alcohol Brief Interventions\n",
       "* National Drug Related Death Database (Scotland) Report, Analysis of Deaths occurring in 2015 and 2016\n",
       "* National Naloxone Programme Scotland Monitoring Report\r\n",
       "\t\t -\n",
       "* Drug-Related Hospital Statistics Scotland\n",
       "* Alcohol Brief Interventions, 2016/17 LDP Standard Report\n",
       "* Injecting Equipment Provision in Scotland 2015/16\n",
       "* Scottish Drug Misuse Database: Overview of Initial Assessments for Specialist Drug\r\n",
       "Treatment 2015/16\n",
       "* Alcohol-Related Hospital Statistics\n",
       "* National Naloxone Programme Scotland monitoring report\n",
       "* Drug-Related Hospital Statistics\n",
       "* Alcohol Brief Interventions 2015/16\n",
       "* Injecting Equipment Provision in Scotland 2014/15\n",
       "* Scottish Drugs Misuse Database: Annual Report\n",
       "* National Drug Related Deaths Database (Scotland) Report\n",
       "* National Naloxone Programme Scotland - Monitoring Report 2014/15\n",
       "* Drug-Related Hospital Statistics Scotland 2014-15\n",
       "* ScotPHO website Drugs sections update\n",
       "* Scottish Drug Misuse Database (SDMD): Dashboard June 2015\n",
       "* Provision of Injecting Equipment in Scotland\n",
       "* National Drug Related Deaths Database (Scotland) Report 2013\n",
       "* Alcohol-related hospital statistics 2013-14\n",
       "* ScotPHO website Alcohol section update\n",
       "* Estimating the Prevalence of Problem Drug Use in Scotland\r\n",
       "\t\t -\n",
       "* Drug-Related Hospital Statistics Scotland 2013/14\r\n",
       "\t\t -\n",
       "* ScotPHO website Drugs section update, HIV and Opiate Substitute Treatment update\n",
       "* Alcohol Brief Interventions 2013-2014\n",
       "* Scottish Drug Misuse Database (SDMD) Initial Assessment Report 2012/13\n",
       "* Provision of Injecting Equipment in Scotland 2012/13\n",
       "* National Naloxone Programme Scotland  naloxone kits issued in 2012/13 (revision)\n",
       "* The National Drug Related Deaths Database (Scotland) Report 2012\n",
       "* Drug-related hospital discharges\r\n",
       "\t\t -\n",
       "* Alcohol-related hospital discharges\n",
       "* National Drug and Alcohol Waiting Times\n",
       "* National Naloxone Programme Scotland  naloxone kits issued in 2012/13\r\n",
       "\t\t -\n",
       "* Alcohol Brief Interventions 2012-2013\n",
       "* Provision of injecting equipment in Scotland 2011/12\n",
       "* Drug-related Hospital Statistics Scotland 2011/12\n",
       "* Alcohol-related Hospital Statistics Scotland 2011/12\r\n",
       "\t\t -\n",
       "* The National Drug Related Deaths Database (Scotland) report 2011\n",
       "* Scottish Drug Misuse Database - overview of new individuals assessed\n",
       "* Scottish Drug Misuse Database (SDMD) Report on People in Treatment 2011/12\n",
       "* National Naloxone Programme Scotland - naloxone supply in 2011/12\r\n",
       "\t\t -\n",
       "* Injecting Equipment Provision in Scotland Survey 2010/11\n",
       "* Alcohol Brief Interventions 2011 -12\n",
       "* Drug Related Hospital Statistics 2011 (Hospital data relating to drug use in Scotland 2010/11)\n",
       "* Alcohol Related Hospital Statistics 2012\n",
       "* The National Drug Related Deaths Database Report (Scotland) 2010\n",
       "* Drug Misuse Statistics Scotland 2011\n",
       "* Estimating the prevalence of problem drug use in Scotland 2009/10\n",
       "* Provision of Injecting Equipment in Scotland, 2009/10\n",
       "* Alcohol Brief Interventions 2010/11\n",
       "* National Drug Treatment Waiting Times\n",
       "* Drug Treatment Waiting Times\n",
       "* Alcohol Statistics Scotland 2011\n",
       "* Drug Misuse Statistics Scotland 2010\n",
       "* Drug Treatment Waiting Times Information Framework Report July - September 2010\n",
       "* Drug Treatment Waiting Times Information Framework Report January-March 2010\n",
       "* Alcohol Brief Interventions 2009/10"
      ],
      "text/plain": [
       "<gssutils.scrape.Scraper at 0x1afef082438>"
      ]
     },
     "execution_count": 1,
     "metadata": {},
     "output_type": "execute_result"
    }
   ],
   "source": [
    "from gssutils import *\n",
    "scraper = Scraper('http://www.isdscotland.org/Health-Topics/Drugs-and-Alcohol-Misuse/Publications/')\n",
    "scraper"
   ]
  },
  {
   "cell_type": "code",
   "execution_count": 2,
   "metadata": {
    "scrolled": true
   },
   "outputs": [
    {
     "data": {
      "text/markdown": [
       "## National Drug and Alcohol Treatment Waiting Times\n",
       "\n",
       "### Distributions\n",
       "\n",
       "1. April - June 2018 DATWT Tables ([MS Excel Spreadsheet](https://www.isdscotland.org/Health-Topics/Drugs-and-Alcohol-Misuse/Publications/2018-09-25/April-June-2018-DATWT-Tables.xlsx))\n",
       "1. April - June 2018 DATWT Prison Tables ([MS Excel Spreadsheet](https://www.isdscotland.org/Health-Topics/Drugs-and-Alcohol-Misuse/Publications/2018-09-25/April-June-2018-DATWT-Prison-Tables.xlsx))\n",
       "1. April 2014 - March 2018 Demographic Tables ([MS Excel Spreadsheet](https://www.isdscotland.org/Health-Topics/Drugs-and-Alcohol-Misuse/Publications/2018-09-25/April-2014-March-2018-DATWT-Demographic-Tables.xlsx))\n",
       "1. January - March 2018 DATWT Tables ([MS Excel Spreadsheet](https://www.isdscotland.org/Health-Topics/Drugs-and-Alcohol-Misuse/Publications/2018-06-26/January-March-2018-DATWT-Tables.xlsx))\n",
       "1. January - March 2018 DATWT Prison Tables ([MS Excel Spreadsheet](https://www.isdscotland.org/Health-Topics/Drugs-and-Alcohol-Misuse/Publications/2018-06-26/January-March-2018-DATWT-Prison-Tables.xlsx))\n",
       "1. April 2013 - March 2018 Full Year Tables ([MS Excel Spreadsheet](https://www.isdscotland.org/Health-Topics/Drugs-and-Alcohol-Misuse/Publications/2018-06-26/April2013-March2018-DATWT-Full-Year-Tables.xlsx))\n",
       "1. April 2013 - March 2018 Full Year Prison Tables ([MS Excel Spreadsheet](https://www.isdscotland.org/Health-Topics/Drugs-and-Alcohol-Misuse/Publications/2018-06-26/April2013-March2018-DATWT-Full-Year-Prison-Tables.xlsx))\n",
       "1. October - December 2017 DATWT Tables ([MS Excel Spreadsheet](https://www.isdscotland.org/Health-Topics/Drugs-and-Alcohol-Misuse/Publications/2018-03-27/October-December-2017-DATWT-Tables.xlsx))\n",
       "1. October - December 2017 DATWT Prison Tables ([MS Excel Spreadsheet](https://www.isdscotland.org/Health-Topics/Drugs-and-Alcohol-Misuse/Publications/2018-03-27/October-December-2017-DATWT-Prison-Tables.xlsx))\n",
       "1. July - September 2017 DATWT Tables ([MS Excel Spreadsheet](https://www.isdscotland.org/Health-Topics/Drugs-and-Alcohol-Misuse/Publications/2017-12-19/July-September-2017-DATWT-Tables.xlsx))\n",
       "1. July - September 2017 DATWT Prison Tables ([MS Excel Spreadsheet](https://www.isdscotland.org/Health-Topics/Drugs-and-Alcohol-Misuse/Publications/2017-12-19/July-September-2017-DATWT-Prison-Tables.xlsx))\n",
       "1. April - June 2017 DATWT Tables ([MS Excel Spreadsheet](https://www.isdscotland.org/Health-Topics/Drugs-and-Alcohol-Misuse/Publications/2017-09-26/April-June-2017-DATWT-Tables.xlsx))\n",
       "1. April - June 2017 DATWT Prison Tables ([MS Excel Spreadsheet](https://www.isdscotland.org/Health-Topics/Drugs-and-Alcohol-Misuse/Publications/2017-09-26/April-June-2017-DATWT-Prison-Tables.xlsx))\n",
       "1. April 2013 - March 2017 DATWT Demographic Data ([MS Excel Spreadsheet](https://www.isdscotland.org/Health-Topics/Drugs-and-Alcohol-Misuse/Publications/2017-09-26/April2013-March2017-DATWT-Demographic-Data-Tables.xlsx))\n",
       "1. January - March 2017 DATWT Tables ([MS Excel Spreadsheet](https://www.isdscotland.org/Health-Topics/Drugs-and-Alcohol-Misuse/Publications/2017-06-27/January-March-2017-DATWT-Tables.xlsx))\n",
       "1. April 2013 - March 2017 DATWT Full Year Tables ([MS Excel Spreadsheet](https://www.isdscotland.org/Health-Topics/Drugs-and-Alcohol-Misuse/Publications/2017-06-27/April2013-March2017-DATWT-Full-Year-Tables.xlsx))\n",
       "1. January - March 2017 DATWT Prison Tables ([MS Excel Spreadsheet](https://www.isdscotland.org/Health-Topics/Drugs-and-Alcohol-Misuse/Publications/2017-06-27/January-March-2017-DATWT-Prison-Tables.xlsx))\n",
       "1. April 2013 - March 2017 DATWT Full Year Prison Tables ([MS Excel Spreadsheet](https://www.isdscotland.org/Health-Topics/Drugs-and-Alcohol-Misuse/Publications/2017-06-27/April2013-March2017-DATWT-Full-Year-Prison-Tables.xlsx))\n",
       "1. July - September 2016 DATWT Tables ([MS Excel Spreadsheet](https://www.isdscotland.org/Health-Topics/Drugs-and-Alcohol-Misuse/Publications/2016-12-20/July-September-2016-DATWT-Tables.xlsx))\n",
       "1. July - September 2016 DATWT Prison Tables ([MS Excel Spreadsheet](https://www.isdscotland.org/Health-Topics/Drugs-and-Alcohol-Misuse/Publications/2016-12-20/July-September-2016-DATWT-Prison-Tables.xlsx))\n",
       "1. April - June 2016 DATWT Tables ([MS Excel Spreadsheet](https://www.isdscotland.org/Health-Topics/Drugs-and-Alcohol-Misuse/Publications/2016-09-27/April-June-2016-DATWT-Tables.xlsx))\n",
       "1. April - June 2016 DATWT Prison Tables ([MS Excel Spreadsheet](https://www.isdscotland.org/Health-Topics/Drugs-and-Alcohol-Misuse/Publications/2016-09-27/April-June-2016-DATWT-Prison-Tables.xlsx))\n",
       "1. April - June 2016 DATWT Demographic Tables ([MS Excel Spreadsheet](https://www.isdscotland.org/Health-Topics/Drugs-and-Alcohol-Misuse/Publications/2016-09-27/April-June-2016-DATWT-Demographic-Data.xlsx))\n",
       "1. January - March 2016 DATWT Tables ([MS Excel Spreadsheet](https://www.isdscotland.org/Health-Topics/Drugs-and-Alcohol-Misuse/Publications/2016-06-28/January-March-2016-DATWT-Tables.xlsx))\n",
       "1. January - March 2016 DATWT Prison Tables ([MS Excel Spreadsheet](https://www.isdscotland.org/Health-Topics/Drugs-and-Alcohol-Misuse/Publications/2016-06-28/January-March-2016-DATWT-Prison-Tables.xlsx))\n",
       "1. April 2013 - March 2016 DATWT Tables ([MS Excel Spreadsheet](https://www.isdscotland.org/Health-Topics/Drugs-and-Alcohol-Misuse/Publications/2016-06-28/April2013-March2016-DATWT-Full-Year-Tables.xlsx))\n",
       "1. April 2013 - March 2016 DATWT Prison Tables ([MS Excel Spreadsheet](https://www.isdscotland.org/Health-Topics/Drugs-and-Alcohol-Misuse/Publications/2016-06-28/April2013-March2016-DATWT-Full-Year-Prison-Tables.xlsx))\n",
       "1. October - December 2015 DATWT Tables ([MS Excel Spreadsheet](https://www.isdscotland.org/Health-Topics/Drugs-and-Alcohol-Misuse/Publications/2016-03-29/October-December-2015-DATWT-Tables.xlsx))\n",
       "1. October - December 2016 DATWT Prison Tables ([MS Excel Spreadsheet](https://www.isdscotland.org/Health-Topics/Drugs-and-Alcohol-Misuse/Publications/2016-03-29/October-December-2015-DATWT-Prison-Tables.xlsx))\n",
       "1. July - September 2015 DATWT Tables ([MS Excel Spreadsheet](https://www.isdscotland.org/Health-Topics/Drugs-and-Alcohol-Misuse/Publications/2015-12-15/July-September-2015-DATWT-Tables.xlsx))\n",
       "1. July - September 2015 DATWT Prison Tables ([MS Excel Spreadsheet](https://www.isdscotland.org/Health-Topics/Drugs-and-Alcohol-Misuse/Publications/2015-12-15/July-September-2015-DATWT-Prison-Tables.xlsx))\n",
       "1. April - June 2015 DATWT Tables ([MS Excel Spreadsheet](https://www.isdscotland.org/Health-Topics/Drugs-and-Alcohol-Misuse/Publications/2015-09-29/April-June-2015-DATWT-Tables.xlsx))\n",
       "1. April - June 2015 DATWT Prison Tables ([MS Excel Spreadsheet](https://www.isdscotland.org/Health-Topics/Drugs-and-Alcohol-Misuse/Publications/2015-09-29/April-June-2015-DATWT-Prison-Tables.xlsx))\n",
       "1. April - June 2015 DATWT Demographic Tables ([MS Excel Spreadsheet](https://www.isdscotland.org/Health-Topics/Drugs-and-Alcohol-Misuse/Publications/2015-09-29/April-June-2015-DATWT-Demographic-Tables.xlsx))\n",
       "1. January - March 2015 DATWT Tables ([MS Excel Spreadsheet](https://www.isdscotland.org/Health-Topics/Drugs-and-Alcohol-Misuse/Publications/2015-06-30/January-March-2015-DATWT-Tables.xlsx))\n",
       "1. January - March 2015 DATWT Prison Tables ([MS Excel Spreadsheet](https://www.isdscotland.org/Health-Topics/Drugs-and-Alcohol-Misuse/Publications/2015-06-30/January-March-2015-DATWT-Prison-Tables.xlsx))\n",
       "1. April 2013-March 2015-DATWT-Full-Year-Tables ([MS Excel Spreadsheet](https://www.isdscotland.org/Health-Topics/Drugs-and-Alcohol-Misuse/Publications/2015-06-30/April2013-March2015-DATWT-Full-Year-Tables.xlsx))\n",
       "1. April 2013-March 2015-DATWT-Full-Year-Tables - Prisons ([MS Excel Spreadsheet](https://www.isdscotland.org/Health-Topics/Drugs-and-Alcohol-Misuse/Publications/2015-06-30/April2013-March2015-DATWT-Full-Year-Prison-Tables.xlsx))\n",
       "1. October-December 2014 DATWT Tables ([MS Excel Spreadsheet](https://www.isdscotland.org/Health-Topics/Drugs-and-Alcohol-Misuse/Publications/2015-03-31/October-December-2014-DATWT-Tables.xlsx))\n",
       "1. October-December 2014 DATWT Prison Tables ([MS Excel Spreadsheet](https://www.isdscotland.org/Health-Topics/Drugs-and-Alcohol-Misuse/Publications/2015-03-31/October-December-2014-DATWT-Prison-Tables.xlsx))\n",
       "1. July-September  2014 DATWT Tables ([MS Excel Spreadsheet](https://www.isdscotland.org/Health-Topics/Drugs-and-Alcohol-Misuse/Publications/2014-12-16/July-September-2014-DATWT-Tables.xlsx))\n",
       "1. July-September   2014 DATWT Prison Tables ([MS Excel Spreadsheet](https://www.isdscotland.org/Health-Topics/Drugs-and-Alcohol-Misuse/Publications/2014-12-16/July-September-2014-DATWT-Prison-Tables.xlsx))\n",
       "1. January-March 2014 DATWT Tables ([MS Excel Spreadsheet](https://www.isdscotland.org/Health-Topics/Drugs-and-Alcohol-Misuse/Publications/2014-06-24/January-March-2014-DATWT-Tables.xls))\n",
       "1. January-March  2014 DATWT Prison Tables ([MS Excel Spreadsheet](https://www.isdscotland.org/Health-Topics/Drugs-and-Alcohol-Misuse/Publications/2014-06-24/January-March-2014-DATWT-Prison-Tables.xls))\n",
       "1. October-December 2013 DATWT Tables ([MS Excel Spreadsheet](http://www.isdscotland.org/Health-Topics/Drugs-and-Alcohol-Misuse/Publications/2014-03-25/October-December-2013-DATWT-Tables.xls))\n",
       "1. October-December 2013 DATWT Prison Tables ([MS Excel Spreadsheet](http://www.isdscotland.org/Health-Topics/Drugs-and-Alcohol-Misuse/Publications/2014-03-25/October-December-2013-DATWT-Prison-Tables.xls))\n",
       "1. April-June 2013 DATWT Tables ([MS Excel Spreadsheet](https://www.isdscotland.org/Health-Topics/Drugs-and-Alcohol-Misuse/Publications/2013-09-24/April-June-2013-DATWT-Tables.xls))\n",
       "1. April-June 2013 DATWT Prison Tables ([MS Excel Spreadsheet](https://www.isdscotland.org/Health-Topics/Drugs-and-Alcohol-Misuse/Publications/2013-09-24/April-June-2013-DATWT-PrisonTables.xls))\n",
       "1. April 2012 - March 2013 DATWT Full Year Tables ([MS Excel Spreadsheet](https://www.isdscotland.org/Health-Topics/Drugs-and-Alcohol-Misuse/Publications/2013-09-24/April-June-2013-DATWT-Full-Year-Tables.xls))\n",
       "1. January - March 2013 DATWT Tables ([MS Excel Spreadsheet](https://www.isdscotland.org/Health-Topics/Drugs-and-Alcohol-Misuse/Publications/2013-06-25/January-March-2013-DATWT-Tables.xls?56003315))\n",
       "1. October - December 2012 DATWT Tables ([MS Excel Spreadsheet](https://www.isdscotland.org/Health-Topics/Drugs-and-Alcohol-Misuse/Publications/2013-03-26/October-December-2012-DATWT-Tables.xls?20022250))\n",
       "1. July - September 2012 DATWT Tables ([MS Excel Spreadsheet](https://www.isdscotland.org/Health-Topics/Drugs-and-Alcohol-Misuse/Publications/2012-12-18/July-September-2012-DATWT-Tables.xls?35221112))\n",
       "1. April-June 2012 DATWT Tables ([MS Excel Spreadsheet](https://www.isdscotland.org/Health-Topics/Drugs-and-Alcohol-Misuse/Publications/2012-09-25/April-June-2012-DATWT-Tables.xls?9574962))\n",
       "1. January - March 2012 DATWT Tables ([MS Excel Spreadsheet](https://www.isdscotland.org/Health-Topics/Drugs-and-Alcohol-Misuse/Publications/2012-06-26/January-March-2012-DATWT-Tables.xls?2118779))\n",
       "1. National Drug and Alcohol Treatment Waiting Times October to December 2011 - Tables ([MS Excel Spreadsheet](https://www.isdscotland.org/Health-Topics/Drugs-and-Alcohol-Misuse/Publications/2012-03-27/October-December-2011-DATWT-Tables.xls?3866798))\n",
       "1. Prevalence-2009-10-tables.xls ([MS Excel Spreadsheet](https://www.isdscotland.org/Health-Topics/Drugs-and-Alcohol-Misuse/Publications/2011-11-29/Prevalence-2009-10-tables.xls?57112778))\n"
      ],
      "text/plain": [
       "<gssutils.scrape.Scraper at 0x1afef082438>"
      ]
     },
     "execution_count": 2,
     "metadata": {},
     "output_type": "execute_result"
    }
   ],
   "source": [
    "scraper.select_dataset(title='National Drug and Alcohol Treatment Waiting Times')\n",
    "scraper"
   ]
  },
  {
   "cell_type": "code",
   "execution_count": 3,
   "metadata": {},
   "outputs": [
    {
     "data": {
      "text/plain": [
       "dict_keys(['List', 'Notes', 'Completed waits by age & gender', 'Non Anon Totals', 'Completed waits graph', 'Completed Waits % performance', 'Anonymous figures', 'Anon', 'Completed Total', '3wk performance data'])"
      ]
     },
     "execution_count": 3,
     "metadata": {},
     "output_type": "execute_result"
    }
   ],
   "source": [
    "distribution = scraper.distribution(title='April 2014 - March 2018 Demographic Tables')\n",
    "databaker_tabs = {tab.name: tab for tab in distribution.as_databaker()}\n",
    "databaker_tabs.keys()"
   ]
  },
  {
   "cell_type": "markdown",
   "metadata": {},
   "source": [
    "Process these tabs using Databaker"
   ]
  },
  {
   "cell_type": "code",
   "execution_count": 4,
   "metadata": {},
   "outputs": [
    {
     "name": "stdout",
     "output_type": "stream",
     "text": [
      "\n",
      "\n"
     ]
    }
   ],
   "source": [
    "tables = []\n",
    "for tab_name, script in [\n",
    "    ('Non Anon Totals', 'Table 1.ipynb'),\n",
    "    ('3wk performance data', 'Table 2.ipynb')\n",
    "]:\n",
    "    tab = databaker_tabs[tab_name]\n",
    "    %run \"$script\"\n",
    "    tables.append(new_table)"
   ]
  },
  {
   "cell_type": "markdown",
   "metadata": {},
   "source": [
    "Process these tabs using Pandas directly"
   ]
  },
  {
   "cell_type": "code",
   "execution_count": 5,
   "metadata": {
    "collapsed": true
   },
   "outputs": [],
   "source": [
    "tabs = distribution.as_pandas(sheet_name=None)\n",
    "%run \"Table3.ipynb\"\n",
    "tables.append(new_table)"
   ]
  },
  {
   "cell_type": "code",
   "execution_count": 6,
   "metadata": {},
   "outputs": [
    {
     "data": {
      "text/plain": [
       "Period          18401\n",
       "Age             18401\n",
       "Sex             18401\n",
       "Trust           18401\n",
       "Client          18401\n",
       "Status          18401\n",
       "Measure Type    18401\n",
       "Value           18401\n",
       "Unit            18401\n",
       "dtype: int64"
      ]
     },
     "execution_count": 6,
     "metadata": {},
     "output_type": "execute_result"
    }
   ],
   "source": [
    "tidy = pd.concat(tables)\n",
    "tidy.count()"
   ]
  },
  {
   "cell_type": "code",
   "execution_count": 7,
   "metadata": {
    "collapsed": true
   },
   "outputs": [],
   "source": [
    "tidy = tidy[tidy['Client'] == 'Alcohol']"
   ]
  },
  {
   "cell_type": "code",
   "execution_count": 8,
   "metadata": {},
   "outputs": [
    {
     "data": {
      "text/plain": [
       "Period          6149\n",
       "Age             6149\n",
       "Sex             6149\n",
       "Trust           6149\n",
       "Client          6149\n",
       "Status          6149\n",
       "Measure Type    6149\n",
       "Value           6149\n",
       "Unit            6149\n",
       "dtype: int64"
      ]
     },
     "execution_count": 8,
     "metadata": {},
     "output_type": "execute_result"
    }
   ],
   "source": [
    "tidy.count()"
   ]
  },
  {
   "cell_type": "code",
   "execution_count": 9,
   "metadata": {},
   "outputs": [
    {
     "data": {
      "text/html": [
       "<div>\n",
       "<style scoped>\n",
       "    .dataframe tbody tr th:only-of-type {\n",
       "        vertical-align: middle;\n",
       "    }\n",
       "\n",
       "    .dataframe tbody tr th {\n",
       "        vertical-align: top;\n",
       "    }\n",
       "\n",
       "    .dataframe thead th {\n",
       "        text-align: right;\n",
       "    }\n",
       "</style>\n",
       "<table border=\"1\" class=\"dataframe\">\n",
       "  <thead>\n",
       "    <tr style=\"text-align: right;\">\n",
       "      <th></th>\n",
       "      <th>Period</th>\n",
       "      <th>Age</th>\n",
       "      <th>Sex</th>\n",
       "      <th>Trust</th>\n",
       "      <th>Client</th>\n",
       "      <th>Status</th>\n",
       "      <th>Measure Type</th>\n",
       "      <th>Value</th>\n",
       "      <th>Unit</th>\n",
       "    </tr>\n",
       "  </thead>\n",
       "  <tbody>\n",
       "    <tr>\n",
       "      <th>113</th>\n",
       "      <td>31st March 2017</td>\n",
       "      <td>AGALL</td>\n",
       "      <td>F</td>\n",
       "      <td>212</td>\n",
       "      <td>Alcohol</td>\n",
       "      <td>Number of non-anonymous clients who have start...</td>\n",
       "      <td>Count</td>\n",
       "      <td>6.0</td>\n",
       "      <td>non-anon-clients</td>\n",
       "    </tr>\n",
       "    <tr>\n",
       "      <th>121</th>\n",
       "      <td>31st March 2015</td>\n",
       "      <td>AGALL</td>\n",
       "      <td>F</td>\n",
       "      <td>212</td>\n",
       "      <td>Alcohol</td>\n",
       "      <td>Number of non-anonymous clients who have start...</td>\n",
       "      <td>Count</td>\n",
       "      <td>6.0</td>\n",
       "      <td>non-anon-clients</td>\n",
       "    </tr>\n",
       "  </tbody>\n",
       "</table>\n",
       "</div>"
      ],
      "text/plain": [
       "              Period    Age Sex Trust   Client  \\\n",
       "113  31st March 2017  AGALL   F   212  Alcohol   \n",
       "121  31st March 2015  AGALL   F   212  Alcohol   \n",
       "\n",
       "                                                Status Measure Type  Value  \\\n",
       "113  Number of non-anonymous clients who have start...        Count    6.0   \n",
       "121  Number of non-anonymous clients who have start...        Count    6.0   \n",
       "\n",
       "                 Unit  \n",
       "113  non-anon-clients  \n",
       "121  non-anon-clients  "
      ]
     },
     "execution_count": 9,
     "metadata": {},
     "output_type": "execute_result"
    }
   ],
   "source": [
    "tidy.head(2)"
   ]
  },
  {
   "cell_type": "code",
   "execution_count": 10,
   "metadata": {},
   "outputs": [],
   "source": [
    "tidy['Period'] = str('government-year/') + (tidy['Period'].astype(str).str[-4:].astype(int)-1).astype(str)\\\n",
    "                + str('-')     + tidy['Period'].astype(str).str[-4:]         "
   ]
  },
  {
   "cell_type": "code",
   "execution_count": 11,
   "metadata": {},
   "outputs": [
    {
     "data": {
      "text/plain": [
       "array(['AGALL', 'AG40_49', 'AGOver_50', 'AG0_29', 'AG30_39', 'AGAll'],\n",
       "      dtype=object)"
      ]
     },
     "execution_count": 11,
     "metadata": {},
     "output_type": "execute_result"
    }
   ],
   "source": [
    "tidy['Age'].unique()"
   ]
  },
  {
   "cell_type": "code",
   "execution_count": 12,
   "metadata": {
    "collapsed": true
   },
   "outputs": [],
   "source": [
    "tidy['Age'] = tidy['Age'].map(\n",
    "    lambda x: {\n",
    "        'AGALL' : 'ag3', \n",
    "        'AG0_29' : 'ag3/0-29',\n",
    "        'AG30_39': 'ag3/30-39' ,\n",
    "        'AG40_49': 'ag3/40-49',\n",
    "        'AGOver_50': 'ag3/50-plus'\n",
    "        }.get(x, x))\n"
   ]
  },
  {
   "cell_type": "code",
   "execution_count": 13,
   "metadata": {},
   "outputs": [
    {
     "data": {
      "text/plain": [
       "array(['Count', 'Percentage'], dtype=object)"
      ]
     },
     "execution_count": 13,
     "metadata": {},
     "output_type": "execute_result"
    }
   ],
   "source": [
    "tidy['Measure Type'].unique()"
   ]
  },
  {
   "cell_type": "code",
   "execution_count": 14,
   "metadata": {},
   "outputs": [
    {
     "data": {
      "text/plain": [
       "array(['non-anon-clients', 'anon-clients'], dtype=object)"
      ]
     },
     "execution_count": 14,
     "metadata": {},
     "output_type": "execute_result"
    }
   ],
   "source": [
    "tidy['Unit'].unique()"
   ]
  },
  {
   "cell_type": "code",
   "execution_count": 15,
   "metadata": {},
   "outputs": [
    {
     "data": {
      "text/plain": [
       "array(['212', '213', '118', '120', '104', '135', '103', '412', '122',\n",
       "       '215', '134', '200', '124', '117', '123', '106', '203', '119',\n",
       "       '127', '130', '102', '132', '129', '126', '114', '209', '108',\n",
       "       '133', '121', '111', '205', '131', '101', '128', '214', '107',\n",
       "       '204', '206', '202', '110', '207', '290', '211', '230', '115',\n",
       "       '210', '125', '218', '999'], dtype=object)"
      ]
     },
     "execution_count": 15,
     "metadata": {},
     "output_type": "execute_result"
    }
   ],
   "source": [
    "tidy['Trust'].unique()"
   ]
  },
  {
   "cell_type": "code",
   "execution_count": 16,
   "metadata": {},
   "outputs": [
    {
     "data": {
      "text/html": [
       "<div>\n",
       "<style scoped>\n",
       "    .dataframe tbody tr th:only-of-type {\n",
       "        vertical-align: middle;\n",
       "    }\n",
       "\n",
       "    .dataframe tbody tr th {\n",
       "        vertical-align: top;\n",
       "    }\n",
       "\n",
       "    .dataframe thead th {\n",
       "        text-align: right;\n",
       "    }\n",
       "</style>\n",
       "<table border=\"1\" class=\"dataframe\">\n",
       "  <thead>\n",
       "    <tr style=\"text-align: right;\">\n",
       "      <th></th>\n",
       "      <th>Period</th>\n",
       "      <th>Age</th>\n",
       "      <th>Sex</th>\n",
       "      <th>Trust</th>\n",
       "      <th>Client</th>\n",
       "      <th>Status</th>\n",
       "      <th>Measure Type</th>\n",
       "      <th>Value</th>\n",
       "      <th>Unit</th>\n",
       "    </tr>\n",
       "  </thead>\n",
       "  <tbody>\n",
       "    <tr>\n",
       "      <th>661</th>\n",
       "      <td>government-year/2014-2015</td>\n",
       "      <td>AGAll</td>\n",
       "      <td>T</td>\n",
       "      <td>999</td>\n",
       "      <td>Alcohol</td>\n",
       "      <td>Total number of anonymous clients</td>\n",
       "      <td>Count</td>\n",
       "      <td>6000.0</td>\n",
       "      <td>anon-clients</td>\n",
       "    </tr>\n",
       "    <tr>\n",
       "      <th>665</th>\n",
       "      <td>government-year/2013-2014</td>\n",
       "      <td>AGAll</td>\n",
       "      <td>T</td>\n",
       "      <td>999</td>\n",
       "      <td>Alcohol</td>\n",
       "      <td>Total number of anonymous clients</td>\n",
       "      <td>Count</td>\n",
       "      <td>7185.0</td>\n",
       "      <td>anon-clients</td>\n",
       "    </tr>\n",
       "  </tbody>\n",
       "</table>\n",
       "</div>"
      ],
      "text/plain": [
       "                        Period    Age Sex Trust   Client  \\\n",
       "661  government-year/2014-2015  AGAll   T   999  Alcohol   \n",
       "665  government-year/2013-2014  AGAll   T   999  Alcohol   \n",
       "\n",
       "                                Status Measure Type   Value          Unit  \n",
       "661  Total number of anonymous clients        Count  6000.0  anon-clients  \n",
       "665  Total number of anonymous clients        Count  7185.0  anon-clients  "
      ]
     },
     "execution_count": 16,
     "metadata": {},
     "output_type": "execute_result"
    }
   ],
   "source": [
    "tidy.tail(2)"
   ]
  },
  {
   "cell_type": "code",
   "execution_count": 17,
   "metadata": {
    "collapsed": true
   },
   "outputs": [],
   "source": [
    "tidy = tidy[['Period','Age','Sex','Trust','Measure Type','Value','Unit']]"
   ]
  },
  {
   "cell_type": "code",
   "execution_count": 18,
   "metadata": {
    "collapsed": true
   },
   "outputs": [],
   "source": [
    "from pathlib import Path\n",
    "out = Path('out')\n",
    "out.mkdir(exist_ok=True)\n",
    "tidy.to_csv(out / 'observations.csv', index = False)"
   ]
  },
  {
   "cell_type": "markdown",
   "metadata": {},
   "source": [
    "**Todo: Some metadata in the 'Notes' tab**"
   ]
  },
  {
   "cell_type": "code",
   "execution_count": 19,
   "metadata": {
    "collapsed": true,
    "scrolled": true
   },
   "outputs": [],
   "source": [
    "scraper.dataset.family = 'alcohol'\n",
    "\n",
    "with open(out / 'dataset.trig', 'wb') as metadata:\n",
    "    metadata.write(scraper.generate_trig())"
   ]
  },
  {
   "cell_type": "code",
   "execution_count": null,
   "metadata": {
    "collapsed": true
   },
   "outputs": [],
   "source": []
  }
 ],
 "metadata": {
  "kernelspec": {
   "display_name": "Python 3",
   "language": "python",
   "name": "python3"
  },
  "language_info": {
   "codemirror_mode": {
    "name": "ipython",
    "version": 3
   },
   "file_extension": ".py",
   "mimetype": "text/x-python",
   "name": "python",
   "nbconvert_exporter": "python",
   "pygments_lexer": "ipython3",
   "version": "3.6.3"
  }
 },
 "nbformat": 4,
 "nbformat_minor": 2
}
