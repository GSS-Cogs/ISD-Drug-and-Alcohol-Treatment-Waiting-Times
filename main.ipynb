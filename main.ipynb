{
 "cells": [
  {
   "cell_type": "markdown",
   "metadata": {},
   "source": [
    "April 2014 - March 2018 Demographic Tables"
   ]
  },
  {
   "cell_type": "markdown",
   "metadata": {},
   "source": [
    "https://www.isdscotland.org/Health-Topics/Drugs-and-Alcohol-Misuse/Publications/2018-09-25/April-2014-March-2018-DATWT-Demographic-Tables.xlsx"
   ]
  },
  {
   "cell_type": "code",
   "execution_count": 1,
   "metadata": {
    "scrolled": true
   },
   "outputs": [
    {
     "name": "stderr",
     "output_type": "stream",
     "text": [
      "WARNING:Broken link to dataset data-tables2017.asp?id=1894#1894\n",
      "WARNING:Broken link to dataset data-tables2017.asp?id=1887#1887\n",
      "WARNING:Broken link to dataset data-tables.asp?id=1508#1508\n",
      "WARNING:Broken link to dataset data-tables.asp?id=1386#1386\n",
      "WARNING:Broken link to dataset data-tables.asp?id=1318#1318\n",
      "WARNING:Broken link to dataset data-tables.asp?id=1318#1318\n",
      "WARNING:Broken link to dataset data-tables.asp?id=1238#1238\n",
      "WARNING:Broken link to dataset data-tables.asp?id=735#735\n",
      "WARNING:Broken link to dataset data-tables.asp?id=735#735\n",
      "WARNING:Broken link to dataset data-tables.asp?id=735#735\n",
      "WARNING:Broken link to dataset data-tables.asp?id=735#735\n",
      "WARNING:Broken link to dataset data-tables.asp?id=735#735\n",
      "WARNING:Broken link to dataset data-tables.asp?id=735#735\n"
     ]
    },
    {
     "data": {
      "text/markdown": [
       "## Drugs and Alcohol Misuse\n",
       "\n",
       "This is a catalog of datasets; choose one from the following:\n",
       "\n",
       "* Alcohol Related Hospital Statistics\n",
       "* National Drug and Alcohol Treatment Waiting Times\n",
       "* Provision of Injecting Equipment in Scotland, 2016/17 Report\n",
       "* Scottish Drug Misuse Database Annual Report\n",
       "* Alcohol Brief Interventions\n",
       "* National Drug Related Death Database (Scotland) Report, Analysis of Deaths occurring in 2015 and 2016\n",
       "* National Naloxone Programme Scotland Monitoring Report\r\n",
       "\t\t -\n",
       "* Drug-Related Hospital Statistics Scotland\n",
       "* Alcohol Brief Interventions, 2016/17 LDP Standard Report\n",
       "* Injecting Equipment Provision in Scotland 2015/16\n",
       "* Scottish Drug Misuse Database: Overview of Initial Assessments for Specialist Drug\r\n",
       "Treatment 2015/16\n",
       "* Alcohol-Related Hospital Statistics\n",
       "* National Naloxone Programme Scotland monitoring report\n",
       "* Drug-Related Hospital Statistics\n",
       "* Alcohol Brief Interventions 2015/16\n",
       "* Injecting Equipment Provision in Scotland 2014/15\n",
       "* Scottish Drugs Misuse Database: Annual Report\n",
       "* National Drug Related Deaths Database (Scotland) Report\n",
       "* National Naloxone Programme Scotland - Monitoring Report 2014/15\n",
       "* Drug-Related Hospital Statistics Scotland 2014-15\n",
       "* ScotPHO website Drugs sections update\n",
       "* Scottish Drug Misuse Database (SDMD): Dashboard June 2015\n",
       "* Provision of Injecting Equipment in Scotland\n",
       "* National Drug Related Deaths Database (Scotland) Report 2013\n",
       "* Alcohol-related hospital statistics 2013-14\n",
       "* ScotPHO website Alcohol section update\n",
       "* Estimating the Prevalence of Problem Drug Use in Scotland\r\n",
       "\t\t -\n",
       "* Drug-Related Hospital Statistics Scotland 2013/14\r\n",
       "\t\t -\n",
       "* ScotPHO website Drugs section update, HIV and Opiate Substitute Treatment update\n",
       "* Alcohol Brief Interventions 2013-2014\n",
       "* Scottish Drug Misuse Database (SDMD) Initial Assessment Report 2012/13\n",
       "* Provision of Injecting Equipment in Scotland 2012/13\n",
       "* National Naloxone Programme Scotland  naloxone kits issued in 2012/13 (revision)\n",
       "* The National Drug Related Deaths Database (Scotland) Report 2012\n",
       "* Drug-related hospital discharges\r\n",
       "\t\t -\n",
       "* Alcohol-related hospital discharges\n",
       "* National Drug and Alcohol Waiting Times\n",
       "* National Naloxone Programme Scotland  naloxone kits issued in 2012/13\r\n",
       "\t\t -\n",
       "* Alcohol Brief Interventions 2012-2013\n",
       "* Provision of injecting equipment in Scotland 2011/12\n",
       "* Alcohol-related Hospital Statistics Scotland 2011/12\r\n",
       "\t\t -\n",
       "* Drug-related Hospital Statistics Scotland 2011/12\n",
       "* The National Drug Related Deaths Database (Scotland) report 2011\n",
       "* Scottish Drug Misuse Database - overview of new individuals assessed\n",
       "* Scottish Drug Misuse Database (SDMD) Report on People in Treatment 2011/12\n",
       "* National Naloxone Programme Scotland - naloxone supply in 2011/12\r\n",
       "\t\t -\n",
       "* Injecting Equipment Provision in Scotland Survey 2010/11\n",
       "* Alcohol Brief Interventions 2011 -12\n",
       "* Drug Related Hospital Statistics 2011 (Hospital data relating to drug use in Scotland 2010/11)\n",
       "* Alcohol Related Hospital Statistics 2012\n",
       "* The National Drug Related Deaths Database Report (Scotland) 2010\n",
       "* Drug Misuse Statistics Scotland 2011\n",
       "* Estimating the prevalence of problem drug use in Scotland 2009/10\n",
       "* Provision of Injecting Equipment in Scotland, 2009/10\n",
       "* Alcohol Brief Interventions 2010/11\n",
       "* National Drug Treatment Waiting Times\n",
       "* Drug Treatment Waiting Times\n",
       "* Alcohol Statistics Scotland 2011\n",
       "* Drug Misuse Statistics Scotland 2010\n",
       "* Drug Treatment Waiting Times Information Framework Report July - September 2010\n",
       "* Drug Treatment Waiting Times Information Framework Report January-March 2010\n",
       "* Alcohol Brief Interventions 2009/10"
      ],
      "text/plain": [
       "<gssutils.scrape.Scraper at 0x7f8c7809a080>"
      ]
     },
     "execution_count": 1,
     "metadata": {},
     "output_type": "execute_result"
    }
   ],
   "source": [
    "from gssutils import *\n",
    "scraper = Scraper('http://www.isdscotland.org/Health-Topics/Drugs-and-Alcohol-Misuse/Publications/')\n",
    "scraper"
   ]
  },
  {
   "cell_type": "code",
   "execution_count": 2,
   "metadata": {
    "scrolled": true
   },
   "outputs": [
    {
     "data": {
      "text/markdown": [
       "## National Drug and Alcohol Treatment Waiting Times\n",
       "\n",
       "### Distributions\n",
       "\n",
       "1. April - June 2018 DATWT Tables ([MS Excel Spreadsheet](https://www.isdscotland.org/Health-Topics/Drugs-and-Alcohol-Misuse/Publications/2018-09-25/April-June-2018-DATWT-Tables.xlsx))\n",
       "1. April - June 2018 DATWT Prison Tables ([MS Excel Spreadsheet](https://www.isdscotland.org/Health-Topics/Drugs-and-Alcohol-Misuse/Publications/2018-09-25/April-June-2018-DATWT-Prison-Tables.xlsx))\n",
       "1. April 2014 - March 2018 Demographic Tables ([MS Excel Spreadsheet](https://www.isdscotland.org/Health-Topics/Drugs-and-Alcohol-Misuse/Publications/2018-09-25/April-2014-March-2018-DATWT-Demographic-Tables.xlsx))\n",
       "1. January - March 2018 DATWT Tables ([MS Excel Spreadsheet](https://www.isdscotland.org/Health-Topics/Drugs-and-Alcohol-Misuse/Publications/2018-06-26/January-March-2018-DATWT-Tables.xlsx))\n",
       "1. January - March 2018 DATWT Prison Tables ([MS Excel Spreadsheet](https://www.isdscotland.org/Health-Topics/Drugs-and-Alcohol-Misuse/Publications/2018-06-26/January-March-2018-DATWT-Prison-Tables.xlsx))\n",
       "1. April 2013 - March 2018 Full Year Tables ([MS Excel Spreadsheet](https://www.isdscotland.org/Health-Topics/Drugs-and-Alcohol-Misuse/Publications/2018-06-26/April2013-March2018-DATWT-Full-Year-Tables.xlsx))\n",
       "1. April 2013 - March 2018 Full Year Prison Tables ([MS Excel Spreadsheet](https://www.isdscotland.org/Health-Topics/Drugs-and-Alcohol-Misuse/Publications/2018-06-26/April2013-March2018-DATWT-Full-Year-Prison-Tables.xlsx))\n",
       "1. October - December 2017 DATWT Tables ([MS Excel Spreadsheet](https://www.isdscotland.org/Health-Topics/Drugs-and-Alcohol-Misuse/Publications/2018-03-27/October-December-2017-DATWT-Tables.xlsx))\n",
       "1. October - December 2017 DATWT Prison Tables ([MS Excel Spreadsheet](https://www.isdscotland.org/Health-Topics/Drugs-and-Alcohol-Misuse/Publications/2018-03-27/October-December-2017-DATWT-Prison-Tables.xlsx))\n",
       "1. July - September 2017 DATWT Tables ([MS Excel Spreadsheet](https://www.isdscotland.org/Health-Topics/Drugs-and-Alcohol-Misuse/Publications/2017-12-19/July-September-2017-DATWT-Tables.xlsx))\n",
       "1. July - September 2017 DATWT Prison Tables ([MS Excel Spreadsheet](https://www.isdscotland.org/Health-Topics/Drugs-and-Alcohol-Misuse/Publications/2017-12-19/July-September-2017-DATWT-Prison-Tables.xlsx))\n",
       "1. April - June 2017 DATWT Tables ([MS Excel Spreadsheet](https://www.isdscotland.org/Health-Topics/Drugs-and-Alcohol-Misuse/Publications/2017-09-26/April-June-2017-DATWT-Tables.xlsx))\n",
       "1. April - June 2017 DATWT Prison Tables ([MS Excel Spreadsheet](https://www.isdscotland.org/Health-Topics/Drugs-and-Alcohol-Misuse/Publications/2017-09-26/April-June-2017-DATWT-Prison-Tables.xlsx))\n",
       "1. April 2013 - March 2017 DATWT Demographic Data ([MS Excel Spreadsheet](https://www.isdscotland.org/Health-Topics/Drugs-and-Alcohol-Misuse/Publications/2017-09-26/April2013-March2017-DATWT-Demographic-Data-Tables.xlsx))\n",
       "1. January - March 2017 DATWT Tables ([MS Excel Spreadsheet](https://www.isdscotland.org/Health-Topics/Drugs-and-Alcohol-Misuse/Publications/2017-06-27/January-March-2017-DATWT-Tables.xlsx))\n",
       "1. April 2013 - March 2017 DATWT Full Year Tables ([MS Excel Spreadsheet](https://www.isdscotland.org/Health-Topics/Drugs-and-Alcohol-Misuse/Publications/2017-06-27/April2013-March2017-DATWT-Full-Year-Tables.xlsx))\n",
       "1. January - March 2017 DATWT Prison Tables ([MS Excel Spreadsheet](https://www.isdscotland.org/Health-Topics/Drugs-and-Alcohol-Misuse/Publications/2017-06-27/January-March-2017-DATWT-Prison-Tables.xlsx))\n",
       "1. April 2013 - March 2017 DATWT Full Year Prison Tables ([MS Excel Spreadsheet](https://www.isdscotland.org/Health-Topics/Drugs-and-Alcohol-Misuse/Publications/2017-06-27/April2013-March2017-DATWT-Full-Year-Prison-Tables.xlsx))\n",
       "1. July - September 2016 DATWT Tables ([MS Excel Spreadsheet](https://www.isdscotland.org/Health-Topics/Drugs-and-Alcohol-Misuse/Publications/2016-12-20/July-September-2016-DATWT-Tables.xlsx))\n",
       "1. July - September 2016 DATWT Prison Tables ([MS Excel Spreadsheet](https://www.isdscotland.org/Health-Topics/Drugs-and-Alcohol-Misuse/Publications/2016-12-20/July-September-2016-DATWT-Prison-Tables.xlsx))\n",
       "1. April - June 2016 DATWT Tables ([MS Excel Spreadsheet](https://www.isdscotland.org/Health-Topics/Drugs-and-Alcohol-Misuse/Publications/2016-09-27/April-June-2016-DATWT-Tables.xlsx))\n",
       "1. April - June 2016 DATWT Prison Tables ([MS Excel Spreadsheet](https://www.isdscotland.org/Health-Topics/Drugs-and-Alcohol-Misuse/Publications/2016-09-27/April-June-2016-DATWT-Prison-Tables.xlsx))\n",
       "1. April - June 2016 DATWT Demographic Tables ([MS Excel Spreadsheet](https://www.isdscotland.org/Health-Topics/Drugs-and-Alcohol-Misuse/Publications/2016-09-27/April-June-2016-DATWT-Demographic-Data.xlsx))\n",
       "1. January - March 2016 DATWT Tables ([MS Excel Spreadsheet](https://www.isdscotland.org/Health-Topics/Drugs-and-Alcohol-Misuse/Publications/2016-06-28/January-March-2016-DATWT-Tables.xlsx))\n",
       "1. January - March 2016 DATWT Prison Tables ([MS Excel Spreadsheet](https://www.isdscotland.org/Health-Topics/Drugs-and-Alcohol-Misuse/Publications/2016-06-28/January-March-2016-DATWT-Prison-Tables.xlsx))\n",
       "1. April 2013 - March 2016 DATWT Tables ([MS Excel Spreadsheet](https://www.isdscotland.org/Health-Topics/Drugs-and-Alcohol-Misuse/Publications/2016-06-28/April2013-March2016-DATWT-Full-Year-Tables.xlsx))\n",
       "1. April 2013 - March 2016 DATWT Prison Tables ([MS Excel Spreadsheet](https://www.isdscotland.org/Health-Topics/Drugs-and-Alcohol-Misuse/Publications/2016-06-28/April2013-March2016-DATWT-Full-Year-Prison-Tables.xlsx))\n",
       "1. October - December 2015 DATWT Tables ([MS Excel Spreadsheet](https://www.isdscotland.org/Health-Topics/Drugs-and-Alcohol-Misuse/Publications/2016-03-29/October-December-2015-DATWT-Tables.xlsx))\n",
       "1. October - December 2016 DATWT Prison Tables ([MS Excel Spreadsheet](https://www.isdscotland.org/Health-Topics/Drugs-and-Alcohol-Misuse/Publications/2016-03-29/October-December-2015-DATWT-Prison-Tables.xlsx))\n",
       "1. July - September 2015 DATWT Tables ([MS Excel Spreadsheet](https://www.isdscotland.org/Health-Topics/Drugs-and-Alcohol-Misuse/Publications/2015-12-15/July-September-2015-DATWT-Tables.xlsx))\n",
       "1. July - September 2015 DATWT Prison Tables ([MS Excel Spreadsheet](https://www.isdscotland.org/Health-Topics/Drugs-and-Alcohol-Misuse/Publications/2015-12-15/July-September-2015-DATWT-Prison-Tables.xlsx))\n",
       "1. April - June 2015 DATWT Tables ([MS Excel Spreadsheet](https://www.isdscotland.org/Health-Topics/Drugs-and-Alcohol-Misuse/Publications/2015-09-29/April-June-2015-DATWT-Tables.xlsx))\n",
       "1. April - June 2015 DATWT Prison Tables ([MS Excel Spreadsheet](https://www.isdscotland.org/Health-Topics/Drugs-and-Alcohol-Misuse/Publications/2015-09-29/April-June-2015-DATWT-Prison-Tables.xlsx))\n",
       "1. April - June 2015 DATWT Demographic Tables ([MS Excel Spreadsheet](https://www.isdscotland.org/Health-Topics/Drugs-and-Alcohol-Misuse/Publications/2015-09-29/April-June-2015-DATWT-Demographic-Tables.xlsx))\n",
       "1. January - March 2015 DATWT Tables ([MS Excel Spreadsheet](https://www.isdscotland.org/Health-Topics/Drugs-and-Alcohol-Misuse/Publications/2015-06-30/January-March-2015-DATWT-Tables.xlsx))\n",
       "1. January - March 2015 DATWT Prison Tables ([MS Excel Spreadsheet](https://www.isdscotland.org/Health-Topics/Drugs-and-Alcohol-Misuse/Publications/2015-06-30/January-March-2015-DATWT-Prison-Tables.xlsx))\n",
       "1. April 2013-March 2015-DATWT-Full-Year-Tables ([MS Excel Spreadsheet](https://www.isdscotland.org/Health-Topics/Drugs-and-Alcohol-Misuse/Publications/2015-06-30/April2013-March2015-DATWT-Full-Year-Tables.xlsx))\n",
       "1. April 2013-March 2015-DATWT-Full-Year-Tables - Prisons ([MS Excel Spreadsheet](https://www.isdscotland.org/Health-Topics/Drugs-and-Alcohol-Misuse/Publications/2015-06-30/April2013-March2015-DATWT-Full-Year-Prison-Tables.xlsx))\n",
       "1. October-December 2014 DATWT Tables ([MS Excel Spreadsheet](https://www.isdscotland.org/Health-Topics/Drugs-and-Alcohol-Misuse/Publications/2015-03-31/October-December-2014-DATWT-Tables.xlsx))\n",
       "1. October-December 2014 DATWT Prison Tables ([MS Excel Spreadsheet](https://www.isdscotland.org/Health-Topics/Drugs-and-Alcohol-Misuse/Publications/2015-03-31/October-December-2014-DATWT-Prison-Tables.xlsx))\n",
       "1. July-September  2014 DATWT Tables ([MS Excel Spreadsheet](https://www.isdscotland.org/Health-Topics/Drugs-and-Alcohol-Misuse/Publications/2014-12-16/July-September-2014-DATWT-Tables.xlsx))\n",
       "1. July-September   2014 DATWT Prison Tables ([MS Excel Spreadsheet](https://www.isdscotland.org/Health-Topics/Drugs-and-Alcohol-Misuse/Publications/2014-12-16/July-September-2014-DATWT-Prison-Tables.xlsx))\n",
       "1. January-March 2014 DATWT Tables ([MS Excel Spreadsheet](https://www.isdscotland.org/Health-Topics/Drugs-and-Alcohol-Misuse/Publications/2014-06-24/January-March-2014-DATWT-Tables.xls))\n",
       "1. January-March  2014 DATWT Prison Tables ([MS Excel Spreadsheet](https://www.isdscotland.org/Health-Topics/Drugs-and-Alcohol-Misuse/Publications/2014-06-24/January-March-2014-DATWT-Prison-Tables.xls))\n",
       "1. October-December 2013 DATWT Tables ([MS Excel Spreadsheet](http://www.isdscotland.org/Health-Topics/Drugs-and-Alcohol-Misuse/Publications/2014-03-25/October-December-2013-DATWT-Tables.xls))\n",
       "1. October-December 2013 DATWT Prison Tables ([MS Excel Spreadsheet](http://www.isdscotland.org/Health-Topics/Drugs-and-Alcohol-Misuse/Publications/2014-03-25/October-December-2013-DATWT-Prison-Tables.xls))\n",
       "1. April-June 2013 DATWT Tables ([MS Excel Spreadsheet](https://www.isdscotland.org/Health-Topics/Drugs-and-Alcohol-Misuse/Publications/2013-09-24/April-June-2013-DATWT-Tables.xls))\n",
       "1. April-June 2013 DATWT Prison Tables ([MS Excel Spreadsheet](https://www.isdscotland.org/Health-Topics/Drugs-and-Alcohol-Misuse/Publications/2013-09-24/April-June-2013-DATWT-PrisonTables.xls))\n",
       "1. April 2012 - March 2013 DATWT Full Year Tables ([MS Excel Spreadsheet](https://www.isdscotland.org/Health-Topics/Drugs-and-Alcohol-Misuse/Publications/2013-09-24/April-June-2013-DATWT-Full-Year-Tables.xls))\n",
       "1. January - March 2013 DATWT Tables ([MS Excel Spreadsheet](https://www.isdscotland.org/Health-Topics/Drugs-and-Alcohol-Misuse/Publications/2013-06-25/January-March-2013-DATWT-Tables.xls?91008503))\n",
       "1. October - December 2012 DATWT Tables ([MS Excel Spreadsheet](https://www.isdscotland.org/Health-Topics/Drugs-and-Alcohol-Misuse/Publications/2013-03-26/October-December-2012-DATWT-Tables.xls?29514742))\n",
       "1. July - September 2012 DATWT Tables ([MS Excel Spreadsheet](https://www.isdscotland.org/Health-Topics/Drugs-and-Alcohol-Misuse/Publications/2012-12-18/July-September-2012-DATWT-Tables.xls?84685529))\n",
       "1. April-June 2012 DATWT Tables ([MS Excel Spreadsheet](https://www.isdscotland.org/Health-Topics/Drugs-and-Alcohol-Misuse/Publications/2012-09-25/April-June-2012-DATWT-Tables.xls?77148510))\n",
       "1. January - March 2012 DATWT Tables ([MS Excel Spreadsheet](https://www.isdscotland.org/Health-Topics/Drugs-and-Alcohol-Misuse/Publications/2012-06-26/January-March-2012-DATWT-Tables.xls?92987919))\n",
       "1. National Drug and Alcohol Treatment Waiting Times October to December 2011 - Tables ([MS Excel Spreadsheet](https://www.isdscotland.org/Health-Topics/Drugs-and-Alcohol-Misuse/Publications/2012-03-27/October-December-2011-DATWT-Tables.xls?71440346))\n",
       "1. Prevalence-2009-10-tables.xls ([MS Excel Spreadsheet](https://www.isdscotland.org/Health-Topics/Drugs-and-Alcohol-Misuse/Publications/2011-11-29/Prevalence-2009-10-tables.xls?88175095))\n"
      ],
      "text/plain": [
       "<gssutils.scrape.Scraper at 0x7f8c7809a080>"
      ]
     },
     "execution_count": 2,
     "metadata": {},
     "output_type": "execute_result"
    }
   ],
   "source": [
    "scraper.select_dataset(title='National Drug and Alcohol Treatment Waiting Times')\n",
    "scraper"
   ]
  },
  {
   "cell_type": "code",
   "execution_count": 3,
   "metadata": {},
   "outputs": [
    {
     "data": {
      "text/plain": [
       "dict_keys(['List', 'Notes', 'Completed waits by age & gender', 'Non Anon Totals', 'Completed waits graph', 'Completed Waits % performance', 'Anonymous figures', 'Anon', 'Completed Total', '3wk performance data'])"
      ]
     },
     "execution_count": 3,
     "metadata": {},
     "output_type": "execute_result"
    }
   ],
   "source": [
    "distribution = scraper.distribution(title='April 2014 - March 2018 Demographic Tables')\n",
    "databaker_tabs = {tab.name: tab for tab in distribution.as_databaker()}\n",
    "databaker_tabs.keys()"
   ]
  },
  {
   "cell_type": "markdown",
   "metadata": {},
   "source": [
    "Process these tabs using Databaker"
   ]
  },
  {
   "cell_type": "code",
   "execution_count": 4,
   "metadata": {},
   "outputs": [],
   "source": [
    "tables = []\n",
    "for tab_name, script in [\n",
    "    ('Non Anon Totals', 'Table 1.ipynb'),\n",
    "    ('3wk performance data', 'Table 2.ipynb')\n",
    "]:\n",
    "    tab = databaker_tabs[tab_name]\n",
    "#    %run \"$script\"\n",
    "#    tables.append(new_table)"
   ]
  },
  {
   "cell_type": "markdown",
   "metadata": {},
   "source": [
    "Process these tabs using Pandas directly"
   ]
  },
  {
   "cell_type": "code",
   "execution_count": 5,
   "metadata": {},
   "outputs": [],
   "source": [
    "tabs = distribution.as_pandas(sheet_name=None)\n",
    "%run \"Table3.ipynb\"\n",
    "tables.append(new_table)"
   ]
  },
  {
   "cell_type": "code",
   "execution_count": 6,
   "metadata": {},
   "outputs": [
    {
     "data": {
      "text/plain": [
       "Period          1262\n",
       "Age             1262\n",
       "Sex             1262\n",
       "Trust           1262\n",
       "Client          1262\n",
       "Status          1262\n",
       "Measure Type    1262\n",
       "Value           1262\n",
       "Unit            1262\n",
       "dtype: int64"
      ]
     },
     "execution_count": 6,
     "metadata": {},
     "output_type": "execute_result"
    }
   ],
   "source": [
    "tidy = pd.concat(tables)\n",
    "tidy.count()"
   ]
  },
  {
   "cell_type": "code",
   "execution_count": 7,
   "metadata": {},
   "outputs": [],
   "source": [
    "from pathlib import Path\n",
    "out = Path('out')\n",
    "out.mkdir(exist_ok=True)\n",
    "tidy.to_csv(out / 'observations.csv', index = False)"
   ]
  },
  {
   "cell_type": "markdown",
   "metadata": {},
   "source": [
    "**Todo: Some metadata in the 'Notes' tab**"
   ]
  },
  {
   "cell_type": "code",
   "execution_count": 8,
   "metadata": {},
   "outputs": [
    {
     "ename": "TypeError",
     "evalue": "argument of type 'Distribution' is not iterable",
     "output_type": "error",
     "traceback": [
      "\u001b[0;31m---------------------------------------------------------------------------\u001b[0m",
      "\u001b[0;31mTypeError\u001b[0m                                 Traceback (most recent call last)",
      "\u001b[0;32m<ipython-input-8-4c1ab6648c1c>\u001b[0m in \u001b[0;36m<module>\u001b[0;34m\u001b[0m\n\u001b[1;32m      2\u001b[0m \u001b[0;34m\u001b[0m\u001b[0m\n\u001b[1;32m      3\u001b[0m \u001b[0;32mwith\u001b[0m \u001b[0mopen\u001b[0m\u001b[0;34m(\u001b[0m\u001b[0mout\u001b[0m \u001b[0;34m/\u001b[0m \u001b[0;34m'dataset.trig'\u001b[0m\u001b[0;34m,\u001b[0m \u001b[0;34m'wb'\u001b[0m\u001b[0;34m)\u001b[0m \u001b[0;32mas\u001b[0m \u001b[0mmetadata\u001b[0m\u001b[0;34m:\u001b[0m\u001b[0;34m\u001b[0m\u001b[0;34m\u001b[0m\u001b[0m\n\u001b[0;32m----> 4\u001b[0;31m     \u001b[0mmetadata\u001b[0m\u001b[0;34m.\u001b[0m\u001b[0mwrite\u001b[0m\u001b[0;34m(\u001b[0m\u001b[0mscraper\u001b[0m\u001b[0;34m.\u001b[0m\u001b[0mgenerate_trig\u001b[0m\u001b[0;34m(\u001b[0m\u001b[0;34m)\u001b[0m\u001b[0;34m)\u001b[0m\u001b[0;34m\u001b[0m\u001b[0;34m\u001b[0m\u001b[0m\n\u001b[0m",
      "\u001b[0;32m~/.virtualenvs/databaker/lib/python3.7/site-packages/gssutils/scrape.py\u001b[0m in \u001b[0;36mgenerate_trig\u001b[0;34m(self)\u001b[0m\n\u001b[1;32m    130\u001b[0m \u001b[0;34m\u001b[0m\u001b[0m\n\u001b[1;32m    131\u001b[0m     \u001b[0;32mdef\u001b[0m \u001b[0mgenerate_trig\u001b[0m\u001b[0;34m(\u001b[0m\u001b[0mself\u001b[0m\u001b[0;34m)\u001b[0m\u001b[0;34m:\u001b[0m\u001b[0;34m\u001b[0m\u001b[0;34m\u001b[0m\u001b[0m\n\u001b[0;32m--> 132\u001b[0;31m         \u001b[0;32mreturn\u001b[0m \u001b[0mself\u001b[0m\u001b[0;34m.\u001b[0m\u001b[0mdataset\u001b[0m\u001b[0;34m.\u001b[0m\u001b[0mas_quads\u001b[0m\u001b[0;34m(\u001b[0m\u001b[0;34m)\u001b[0m\u001b[0;34m.\u001b[0m\u001b[0mserialize\u001b[0m\u001b[0;34m(\u001b[0m\u001b[0mformat\u001b[0m\u001b[0;34m=\u001b[0m\u001b[0;34m'trig'\u001b[0m\u001b[0;34m)\u001b[0m\u001b[0;34m\u001b[0m\u001b[0;34m\u001b[0m\u001b[0m\n\u001b[0m\u001b[1;32m    133\u001b[0m \u001b[0;34m\u001b[0m\u001b[0m\n\u001b[1;32m    134\u001b[0m     \u001b[0;34m@\u001b[0m\u001b[0mproperty\u001b[0m\u001b[0;34m\u001b[0m\u001b[0;34m\u001b[0m\u001b[0m\n",
      "\u001b[0;32m~/.virtualenvs/databaker/lib/python3.7/site-packages/gssutils/metadata.py\u001b[0m in \u001b[0;36mas_quads\u001b[0;34m(self)\u001b[0m\n\u001b[1;32m    105\u001b[0m                 \u001b[0;32mif\u001b[0m \u001b[0mtype\u001b[0m\u001b[0;34m(\u001b[0m\u001b[0mv\u001b[0m\u001b[0;34m)\u001b[0m \u001b[0;34m==\u001b[0m \u001b[0mlist\u001b[0m\u001b[0;34m:\u001b[0m\u001b[0;34m\u001b[0m\u001b[0;34m\u001b[0m\u001b[0m\n\u001b[1;32m    106\u001b[0m                     \u001b[0;32mfor\u001b[0m \u001b[0mobj\u001b[0m \u001b[0;32min\u001b[0m \u001b[0mv\u001b[0m\u001b[0;34m:\u001b[0m\u001b[0;34m\u001b[0m\u001b[0;34m\u001b[0m\u001b[0m\n\u001b[0;32m--> 107\u001b[0;31m                         \u001b[0mgraph\u001b[0m\u001b[0;34m.\u001b[0m\u001b[0madd\u001b[0m\u001b[0;34m(\u001b[0m\u001b[0;34m(\u001b[0m\u001b[0mself\u001b[0m\u001b[0;34m.\u001b[0m\u001b[0muri\u001b[0m\u001b[0;34m,\u001b[0m \u001b[0mprop\u001b[0m\u001b[0;34m,\u001b[0m \u001b[0mf\u001b[0m\u001b[0;34m(\u001b[0m\u001b[0mobj\u001b[0m\u001b[0;34m)\u001b[0m\u001b[0;34m)\u001b[0m\u001b[0;34m)\u001b[0m\u001b[0;34m\u001b[0m\u001b[0;34m\u001b[0m\u001b[0m\n\u001b[0m\u001b[1;32m    108\u001b[0m                 \u001b[0;32melse\u001b[0m\u001b[0;34m:\u001b[0m\u001b[0;34m\u001b[0m\u001b[0;34m\u001b[0m\u001b[0m\n\u001b[1;32m    109\u001b[0m                     \u001b[0mgraph\u001b[0m\u001b[0;34m.\u001b[0m\u001b[0madd\u001b[0m\u001b[0;34m(\u001b[0m\u001b[0;34m(\u001b[0m\u001b[0mself\u001b[0m\u001b[0;34m.\u001b[0m\u001b[0muri\u001b[0m\u001b[0;34m,\u001b[0m \u001b[0mprop\u001b[0m\u001b[0;34m,\u001b[0m \u001b[0mf\u001b[0m\u001b[0;34m(\u001b[0m\u001b[0mv\u001b[0m\u001b[0;34m)\u001b[0m\u001b[0;34m)\u001b[0m\u001b[0;34m)\u001b[0m\u001b[0;34m\u001b[0m\u001b[0;34m\u001b[0m\u001b[0m\n",
      "\u001b[0;32m~/.virtualenvs/databaker/lib/python3.7/site-packages/gssutils/metadata.py\u001b[0m in \u001b[0;36m<lambda>\u001b[0;34m(s)\u001b[0m\n\u001b[1;32m    144\u001b[0m         \u001b[0;34m'landingPage'\u001b[0m\u001b[0;34m:\u001b[0m \u001b[0;34m(\u001b[0m\u001b[0mDCAT\u001b[0m\u001b[0;34m.\u001b[0m\u001b[0mlandingPage\u001b[0m\u001b[0;34m,\u001b[0m \u001b[0mStatus\u001b[0m\u001b[0;34m.\u001b[0m\u001b[0mmandatory\u001b[0m\u001b[0;34m,\u001b[0m \u001b[0;32mlambda\u001b[0m \u001b[0ms\u001b[0m\u001b[0;34m:\u001b[0m \u001b[0mURIRef\u001b[0m\u001b[0;34m(\u001b[0m\u001b[0ms\u001b[0m\u001b[0;34m)\u001b[0m\u001b[0;34m)\u001b[0m\u001b[0;34m,\u001b[0m \u001b[0;31m# foaf:Document\u001b[0m\u001b[0;34m\u001b[0m\u001b[0;34m\u001b[0m\u001b[0m\n\u001b[1;32m    145\u001b[0m         \u001b[0;34m'theme'\u001b[0m\u001b[0;34m:\u001b[0m \u001b[0;34m(\u001b[0m\u001b[0mDCAT\u001b[0m\u001b[0;34m.\u001b[0m\u001b[0mtheme\u001b[0m\u001b[0;34m,\u001b[0m \u001b[0mStatus\u001b[0m\u001b[0;34m.\u001b[0m\u001b[0mmandatory\u001b[0m\u001b[0;34m,\u001b[0m \u001b[0;32mlambda\u001b[0m \u001b[0ms\u001b[0m\u001b[0;34m:\u001b[0m \u001b[0mURIRef\u001b[0m\u001b[0;34m(\u001b[0m\u001b[0ms\u001b[0m\u001b[0;34m)\u001b[0m\u001b[0;34m)\u001b[0m\u001b[0;34m,\u001b[0m \u001b[0;31m# skos:Concept\u001b[0m\u001b[0;34m\u001b[0m\u001b[0;34m\u001b[0m\u001b[0m\n\u001b[0;32m--> 146\u001b[0;31m         \u001b[0;34m'distribution'\u001b[0m\u001b[0;34m:\u001b[0m \u001b[0;34m(\u001b[0m\u001b[0mDCAT\u001b[0m\u001b[0;34m.\u001b[0m\u001b[0mdistribution\u001b[0m\u001b[0;34m,\u001b[0m \u001b[0mStatus\u001b[0m\u001b[0;34m.\u001b[0m\u001b[0mmandatory\u001b[0m\u001b[0;34m,\u001b[0m \u001b[0;32mlambda\u001b[0m \u001b[0ms\u001b[0m\u001b[0;34m:\u001b[0m \u001b[0mURIRef\u001b[0m\u001b[0;34m(\u001b[0m\u001b[0ms\u001b[0m\u001b[0;34m)\u001b[0m\u001b[0;34m)\u001b[0m\u001b[0;34m\u001b[0m\u001b[0;34m\u001b[0m\u001b[0m\n\u001b[0m\u001b[1;32m    147\u001b[0m     })\n\u001b[1;32m    148\u001b[0m \u001b[0;34m\u001b[0m\u001b[0m\n",
      "\u001b[0;32m~/.virtualenvs/databaker/lib/python3.7/site-packages/rdflib/term.py\u001b[0m in \u001b[0;36m__new__\u001b[0;34m(cls, value, base)\u001b[0m\n\u001b[1;32m    221\u001b[0m                     \u001b[0mvalue\u001b[0m \u001b[0;34m+=\u001b[0m \u001b[0;34m\"#\"\u001b[0m\u001b[0;34m\u001b[0m\u001b[0;34m\u001b[0m\u001b[0m\n\u001b[1;32m    222\u001b[0m \u001b[0;34m\u001b[0m\u001b[0m\n\u001b[0;32m--> 223\u001b[0;31m         \u001b[0;32mif\u001b[0m \u001b[0;32mnot\u001b[0m \u001b[0m_is_valid_uri\u001b[0m\u001b[0;34m(\u001b[0m\u001b[0mvalue\u001b[0m\u001b[0;34m)\u001b[0m\u001b[0;34m:\u001b[0m\u001b[0;34m\u001b[0m\u001b[0;34m\u001b[0m\u001b[0m\n\u001b[0m\u001b[1;32m    224\u001b[0m             \u001b[0mlogger\u001b[0m\u001b[0;34m.\u001b[0m\u001b[0mwarning\u001b[0m\u001b[0;34m(\u001b[0m\u001b[0;34m'%s does not look like a valid URI, trying to serialize this will break.'\u001b[0m\u001b[0;34m%\u001b[0m\u001b[0mvalue\u001b[0m\u001b[0;34m)\u001b[0m\u001b[0;34m\u001b[0m\u001b[0;34m\u001b[0m\u001b[0m\n\u001b[1;32m    225\u001b[0m \u001b[0;34m\u001b[0m\u001b[0m\n",
      "\u001b[0;32m~/.virtualenvs/databaker/lib/python3.7/site-packages/rdflib/term.py\u001b[0m in \u001b[0;36m_is_valid_uri\u001b[0;34m(uri)\u001b[0m\n\u001b[1;32m     74\u001b[0m \u001b[0;32mdef\u001b[0m \u001b[0m_is_valid_uri\u001b[0m\u001b[0;34m(\u001b[0m\u001b[0muri\u001b[0m\u001b[0;34m)\u001b[0m\u001b[0;34m:\u001b[0m\u001b[0;34m\u001b[0m\u001b[0;34m\u001b[0m\u001b[0m\n\u001b[1;32m     75\u001b[0m     \u001b[0;32mfor\u001b[0m \u001b[0mc\u001b[0m \u001b[0;32min\u001b[0m \u001b[0m_invalid_uri_chars\u001b[0m\u001b[0;34m:\u001b[0m\u001b[0;34m\u001b[0m\u001b[0;34m\u001b[0m\u001b[0m\n\u001b[0;32m---> 76\u001b[0;31m         \u001b[0;32mif\u001b[0m \u001b[0mc\u001b[0m \u001b[0;32min\u001b[0m \u001b[0muri\u001b[0m\u001b[0;34m:\u001b[0m \u001b[0;32mreturn\u001b[0m \u001b[0;32mFalse\u001b[0m\u001b[0;34m\u001b[0m\u001b[0;34m\u001b[0m\u001b[0m\n\u001b[0m\u001b[1;32m     77\u001b[0m     \u001b[0;32mreturn\u001b[0m \u001b[0;32mTrue\u001b[0m\u001b[0;34m\u001b[0m\u001b[0;34m\u001b[0m\u001b[0m\n\u001b[1;32m     78\u001b[0m \u001b[0;34m\u001b[0m\u001b[0m\n",
      "\u001b[0;31mTypeError\u001b[0m: argument of type 'Distribution' is not iterable"
     ]
    }
   ],
   "source": [
    "scraper.dataset.family = 'Health / Alcohol'\n",
    "\n",
    "with open(out / 'dataset.trig', 'wb') as metadata:\n",
    "    metadata.write(scraper.generate_trig())"
   ]
  },
  {
   "cell_type": "code",
   "execution_count": null,
   "metadata": {},
   "outputs": [],
   "source": []
  }
 ],
 "metadata": {
  "kernelspec": {
   "display_name": "Python 3",
   "language": "python",
   "name": "python3"
  },
  "language_info": {
   "codemirror_mode": {
    "name": "ipython",
    "version": 3
   },
   "file_extension": ".py",
   "mimetype": "text/x-python",
   "name": "python",
   "nbconvert_exporter": "python",
   "pygments_lexer": "ipython3",
   "version": "3.7.1"
  }
 },
 "nbformat": 4,
 "nbformat_minor": 2
}
